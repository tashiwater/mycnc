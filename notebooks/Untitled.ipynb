{
 "cells": [
  {
   "cell_type": "code",
   "execution_count": 5,
   "metadata": {},
   "outputs": [],
   "source": [
    "import os\n",
    "import codecs\n",
    "import glob\n",
    " \n",
    " \n",
    "class JTalk:\n",
    " \n",
    "    def __init__(self, talk_file, wav_file):\n",
    "        # 読み上げるファイル\n",
    "        self.talk_file = talk_file\n",
    "        # 音声ファイル\n",
    "        self.wav_file = wav_file\n",
    "        # 辞書ファイル\n",
    "        self.dic = '/usr/local/Cellar/open-jtalk/1.10_1/dic'\n",
    "        # 音声ライブラリ\n",
    "        self.voice = '/usr/local/Cellar/open-jtalk/1.10_1/voice/mei/mei_normal.htsvoice'\n",
    "        # 辞書の定義\n",
    "        self.user_dic = {\n",
    "            'Slack': 'スラック',\n",
    "            'Todoist': 'トゥードゥーイスト',\n",
    "            'Python': 'パイソン',\n",
    "            'GitHub': 'ギットハブ',\n",
    "            'Open JTalk': 'オープンジェイトーク',\n",
    "        }\n",
    " \n",
    " \n",
    "    # 音声ファイル作成メソッド\n",
    "    def set_talk(self, text):\n",
    "\t# テキストファイルを開く\n",
    "        target_file = codecs.open(self.talk_file, 'w', \"utf_8\")\n",
    "        target_file.write(text)\n",
    "        target_file.close()\n",
    "\t# open-jtalkで音声を作成\n",
    "        os.system('open_jtalk -x %s -m %s -ow %s %s' % (self.dic, self.voice, self.wav_file, self.talk_file))\n",
    " \n",
    "    # 音声再生メソッド\n",
    "    def exe_talk(self, param_text):\n",
    "\t# 読み仮名置き換えメソッド呼び出し\n",
    "        text = self.replace_kana(param_text)\n",
    "\t# 音声を作成するメソッド呼び出し\n",
    "        self.set_talk(text)\n",
    "\t# 音声を再生する\n",
    "        os.system('afplay out.wav')\n",
    " \n",
    "    # ユーザー定義辞書を置き換える\n",
    "    def replace_kana(self, param_text):\n",
    "        text = param_text\n",
    "        # 「。」を改行（文章の区切り）に置き換える\n",
    "        text = '。'.join(text.split('\\n'))\n",
    "        for k, v in enumerate(self.user_dic):\n",
    "            text = text.replace(v, self.user_dic[v])\n",
    "        return text"
   ]
  },
  {
   "cell_type": "code",
   "execution_count": 7,
   "metadata": {},
   "outputs": [],
   "source": [
    "target_file = 'data/test1.txt'\n",
    "talk_file = 'data/talk.txt'  # 読み上げる文章を書き込むファイル\n",
    "wav_file = 'data/out.wav'  # 音声の出力ファイル\n",
    "# message.send(reply)→音声の順に処理すると同時再生っぽくなります\n",
    "jtalk = JTalk(talk_file, wav_file)\n",
    "\n",
    "c = codecs.open(target_file, \"r\", \"utf_8\")\n",
    "# ファイルを読み込む\n",
    "text_lines = c.read()\n",
    "\n",
    "jtalk.exe_talk(text_lines)\n",
    "c.close()\n"
   ]
  },
  {
   "cell_type": "code",
   "execution_count": null,
   "metadata": {},
   "outputs": [],
   "source": []
  }
 ],
 "metadata": {
  "kernelspec": {
   "display_name": "Python 3",
   "language": "python",
   "name": "python3"
  },
  "language_info": {
   "codemirror_mode": {
    "name": "ipython",
    "version": 3
   },
   "file_extension": ".py",
   "mimetype": "text/x-python",
   "name": "python",
   "nbconvert_exporter": "python",
   "pygments_lexer": "ipython3",
   "version": "3.7.3"
  }
 },
 "nbformat": 4,
 "nbformat_minor": 2
}
